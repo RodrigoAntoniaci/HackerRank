{
 "cells": [
  {
   "cell_type": "markdown",
   "metadata": {},
   "source": [
    "Challenge: https://www.hackerrank.com/challenges/python-lists/problem"
   ]
  },
  {
   "cell_type": "code",
   "execution_count": null,
   "metadata": {},
   "outputs": [],
   "source": [
    "if __name__ == '__main__':\n",
    "    ans = []\n",
    "    for i in range(int(input())):\n",
    "        comm = input().split()\n",
    "        if comm[0] == 'insert':\n",
    "            ans.insert(int(comm[1]),int(comm[2]))\n",
    "        elif comm[0] == 'print':\n",
    "            print(ans)\n",
    "        elif comm[0] == 'remove':\n",
    "            ans.remove(int(comm[1]))\n",
    "        elif comm[0] == 'append':\n",
    "            ans.append(int(comm[1]))\n",
    "        elif comm[0] == 'sort':\n",
    "            ans.sort()\n",
    "        elif comm[0] == 'reverse':\n",
    "            ans.reverse()\n",
    "        elif comm[0] == 'pop':\n",
    "            ans.pop()"
   ]
  }
 ],
 "metadata": {
  "kernelspec": {
   "display_name": "Python 3",
   "language": "python",
   "name": "python3"
  },
  "language_info": {
   "codemirror_mode": {
    "name": "ipython",
    "version": 3
   },
   "file_extension": ".py",
   "mimetype": "text/x-python",
   "name": "python",
   "nbconvert_exporter": "python",
   "pygments_lexer": "ipython3",
   "version": "3.8.2"
  }
 },
 "nbformat": 4,
 "nbformat_minor": 4
}

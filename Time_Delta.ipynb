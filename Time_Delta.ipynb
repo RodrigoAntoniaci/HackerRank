{
 "cells": [
  {
   "cell_type": "markdown",
   "metadata": {},
   "source": [
    "Challenge: https://www.hackerrank.com/challenges/python-time-delta/problem?isFullScreen=true"
   ]
  },
  {
   "cell_type": "code",
   "execution_count": 32,
   "metadata": {},
   "outputs": [],
   "source": [
    "import math\n",
    "import random\n",
    "import re\n",
    "import sys\n",
    "import datetime\n",
    "import os\n",
    "\n",
    "def time_delta(t1, t2):\n",
    "    \n",
    "    t1 = int((datetime.datetime.strptime(t1, \"%a %d %b %Y %H:%M:%S %z\")).timestamp())\n",
    "    \n",
    "    t2 = int((datetime.datetime.strptime(t2, \"%a %d %b %Y %H:%M:%S %z\")).timestamp())\n",
    "    \n",
    "    return str(abs(t1 - t2))"
   ]
  },
  {
   "cell_type": "code",
   "execution_count": null,
   "metadata": {},
   "outputs": [],
   "source": [
    "if __name__ == '__main__':\n",
    "    fptr = open(os.environ['OUTPUT_PATH'], 'w')\n",
    "\n",
    "    t = int(input())\n",
    "\n",
    "    for t_itr in range(t):\n",
    "        t1 = input()\n",
    "\n",
    "        t2 = input()\n",
    "\n",
    "        delta = time_delta(t1, t2)\n",
    "\n",
    "        fptr.write(delta + '\\n')"
   ]
  }
 ],
 "metadata": {
  "kernelspec": {
   "display_name": "Python 3",
   "language": "python",
   "name": "python3"
  },
  "language_info": {
   "codemirror_mode": {
    "name": "ipython",
    "version": 3
   },
   "file_extension": ".py",
   "mimetype": "text/x-python",
   "name": "python",
   "nbconvert_exporter": "python",
   "pygments_lexer": "ipython3",
   "version": "3.8.2"
  }
 },
 "nbformat": 4,
 "nbformat_minor": 4
}
